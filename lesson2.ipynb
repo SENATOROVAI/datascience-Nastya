{
 "cells": [
  {
   "cell_type": "code",
   "execution_count": null,
   "metadata": {},
   "outputs": [],
   "source": [
    "1) mypy - команда исправляющая ошибки в коде\n",
    "2) black - комнада находящая ошибки в коде "
   ]
  }
 ],
 "metadata": {
  "language_info": {
   "name": "python"
  }
 },
 "nbformat": 4,
 "nbformat_minor": 2
}
