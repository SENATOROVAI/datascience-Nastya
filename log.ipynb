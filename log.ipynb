{
 "cells": [
  {
   "cell_type": "code",
   "execution_count": null,
   "metadata": {},
   "outputs": [],
   "source": [
    "дата 21.02\n",
    "\n",
    "1) Изучали гитхаб\n",
    "2) пул реквест - это \n",
    "3) коммит -"
   ]
  },
  {
   "cell_type": "code",
   "execution_count": null,
   "metadata": {},
   "outputs": [],
   "source": [
    "дата 26.02\n",
    "1) mypy - команда исправляющая ошибки в коде\n",
    "2) black - комнада находящая ошибки в коде \n"
   ]
  }
 ],
 "metadata": {
  "language_info": {
   "name": "python"
  }
 },
 "nbformat": 4,
 "nbformat_minor": 2
}
